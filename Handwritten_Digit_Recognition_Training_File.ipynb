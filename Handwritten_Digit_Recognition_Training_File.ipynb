{
  "nbformat": 4,
  "nbformat_minor": 0,
  "metadata": {
    "colab": {
      "name": "Handwritten Digit Recognition Training File.ipynb",
      "provenance": [],
      "collapsed_sections": []
    },
    "kernelspec": {
      "name": "python3",
      "display_name": "Python 3"
    }
  },
  "cells": [
    {
      "cell_type": "code",
      "metadata": {
        "id": "QURrHl1j1z64"
      },
      "source": [
        "#importing the necessary files\r\n",
        "import keras\r\n",
        "from keras.datasets import mnist\r\n",
        "from keras.models import Sequential\r\n",
        "from keras.layers import Dense, Dropout, Flatten\r\n",
        "from keras.layers import Conv2D, MaxPooling2D\r\n",
        "from keras import backend as K"
      ],
      "execution_count": 1,
      "outputs": []
    },
    {
      "cell_type": "code",
      "metadata": {
        "colab": {
          "base_uri": "https://localhost:8080/"
        },
        "id": "BORL3fos18s9",
        "outputId": "8028298d-d9fa-428c-eef6-26fec2b8d8be"
      },
      "source": [
        "# the data, split between train and test sets\r\n",
        "(x_train, y_train), (x_test, y_test) = mnist.load_data()"
      ],
      "execution_count": 2,
      "outputs": [
        {
          "output_type": "stream",
          "text": [
            "Downloading data from https://storage.googleapis.com/tensorflow/tf-keras-datasets/mnist.npz\n",
            "11493376/11490434 [==============================] - 0s 0us/step\n"
          ],
          "name": "stdout"
        }
      ]
    },
    {
      "cell_type": "code",
      "metadata": {
        "colab": {
          "base_uri": "https://localhost:8080/"
        },
        "id": "iuNDVWyS2Bs6",
        "outputId": "bf92f599-0046-4ebe-8a9d-6cda2a3517ca"
      },
      "source": [
        "print(x_train.shape, y_train.shape)"
      ],
      "execution_count": 3,
      "outputs": [
        {
          "output_type": "stream",
          "text": [
            "(60000, 28, 28) (60000,)\n"
          ],
          "name": "stdout"
        }
      ]
    },
    {
      "cell_type": "code",
      "metadata": {
        "id": "cQUv6p9b2Dbg"
      },
      "source": [
        "#reshaping data to fit the model\r\n",
        "x_train = x_train.reshape(x_train.shape[0], 28, 28, 1)\r\n",
        "x_test = x_test.reshape(x_test.shape[0], 28, 28, 1)\r\n",
        "input_shape = (28, 28, 1)"
      ],
      "execution_count": 4,
      "outputs": []
    },
    {
      "cell_type": "code",
      "metadata": {
        "id": "RxqY8puy2FxP"
      },
      "source": [
        "# convert class vectors to binary class matrices\r\n",
        "y_train = keras.utils.to_categorical(y_train, 10)\r\n",
        "y_test = keras.utils.to_categorical(y_test, 10)"
      ],
      "execution_count": 5,
      "outputs": []
    },
    {
      "cell_type": "code",
      "metadata": {
        "colab": {
          "base_uri": "https://localhost:8080/"
        },
        "id": "WO_f5fvN2Ly_",
        "outputId": "d7c54fb2-e5f6-4b0c-84da-7cdd8633969c"
      },
      "source": [
        "x_train = x_train.astype('float32')\r\n",
        "x_test = x_test.astype('float32')\r\n",
        "x_train /= 255\r\n",
        "x_test /= 255\r\n",
        "print('x_train shape:', x_train.shape)\r\n",
        "print(x_train.shape[0], 'train samples')\r\n",
        "print(x_test.shape[0], 'test samples')"
      ],
      "execution_count": 6,
      "outputs": [
        {
          "output_type": "stream",
          "text": [
            "x_train shape: (60000, 28, 28, 1)\n",
            "60000 train samples\n",
            "10000 test samples\n"
          ],
          "name": "stdout"
        }
      ]
    },
    {
      "cell_type": "code",
      "metadata": {
        "id": "_qda0U8q2O7a"
      },
      "source": [
        "batch_size = 128\r\n",
        "num_classes = 10\r\n",
        "epochs = 50"
      ],
      "execution_count": 12,
      "outputs": []
    },
    {
      "cell_type": "code",
      "metadata": {
        "id": "bcdMtAOz2TdE"
      },
      "source": [
        "# designing the model\r\n",
        "model = Sequential()\r\n",
        "model.add(Conv2D(32, kernel_size=(5, 5),activation='relu',input_shape=input_shape))\r\n",
        "model.add(MaxPooling2D(pool_size=(2, 2)))\r\n",
        "model.add(Conv2D(64, (3, 3), activation='relu'))\r\n",
        "model.add(MaxPooling2D(pool_size=(2, 2)))\r\n",
        "model.add(Flatten())\r\n",
        "model.add(Dense(128, activation='relu'))\r\n",
        "model.add(Dropout(0.3))\r\n",
        "model.add(Dense(64, activation='relu'))\r\n",
        "model.add(Dropout(0.5))\r\n",
        "model.add(Dense(num_classes, activation='softmax'))"
      ],
      "execution_count": 13,
      "outputs": []
    },
    {
      "cell_type": "code",
      "metadata": {
        "id": "elXAQvqw2XfP"
      },
      "source": [
        "#compiling the model\r\n",
        "model.compile(loss=keras.losses.categorical_crossentropy,optimizer=keras.optimizers.Adadelta(),metrics=['accuracy'])"
      ],
      "execution_count": 14,
      "outputs": []
    },
    {
      "cell_type": "code",
      "metadata": {
        "colab": {
          "base_uri": "https://localhost:8080/"
        },
        "id": "0U_7Ke-a24Mv",
        "outputId": "bdd3b2d1-e402-4906-cff3-80b7aafbacb3"
      },
      "source": [
        "hist = model.fit(x_train, y_train,batch_size=batch_size,epochs=epochs,verbose=1,validation_data=(x_test, y_test))\r\n",
        "print(\"The model has successfully trained\")"
      ],
      "execution_count": 15,
      "outputs": [
        {
          "output_type": "stream",
          "text": [
            "Epoch 1/50\n",
            "469/469 [==============================] - 44s 92ms/step - loss: 2.3090 - accuracy: 0.0960 - val_loss: 2.2904 - val_accuracy: 0.1095\n",
            "Epoch 2/50\n",
            "469/469 [==============================] - 43s 91ms/step - loss: 2.2932 - accuracy: 0.1187 - val_loss: 2.2730 - val_accuracy: 0.1919\n",
            "Epoch 3/50\n",
            "469/469 [==============================] - 43s 91ms/step - loss: 2.2790 - accuracy: 0.1418 - val_loss: 2.2567 - val_accuracy: 0.2801\n",
            "Epoch 4/50\n",
            "469/469 [==============================] - 43s 91ms/step - loss: 2.2665 - accuracy: 0.1631 - val_loss: 2.2415 - val_accuracy: 0.3629\n",
            "Epoch 5/50\n",
            "469/469 [==============================] - 43s 92ms/step - loss: 2.2537 - accuracy: 0.1805 - val_loss: 2.2255 - val_accuracy: 0.4417\n",
            "Epoch 6/50\n",
            "469/469 [==============================] - 43s 92ms/step - loss: 2.2404 - accuracy: 0.2042 - val_loss: 2.2079 - val_accuracy: 0.5180\n",
            "Epoch 7/50\n",
            "469/469 [==============================] - 43s 92ms/step - loss: 2.2254 - accuracy: 0.2261 - val_loss: 2.1883 - val_accuracy: 0.5706\n",
            "Epoch 8/50\n",
            "469/469 [==============================] - 43s 92ms/step - loss: 2.2080 - accuracy: 0.2461 - val_loss: 2.1665 - val_accuracy: 0.6018\n",
            "Epoch 9/50\n",
            "469/469 [==============================] - 43s 92ms/step - loss: 2.1917 - accuracy: 0.2627 - val_loss: 2.1430 - val_accuracy: 0.6220\n",
            "Epoch 10/50\n",
            "469/469 [==============================] - 43s 92ms/step - loss: 2.1711 - accuracy: 0.2825 - val_loss: 2.1172 - val_accuracy: 0.6350\n",
            "Epoch 11/50\n",
            "469/469 [==============================] - 43s 92ms/step - loss: 2.1501 - accuracy: 0.2942 - val_loss: 2.0887 - val_accuracy: 0.6439\n",
            "Epoch 12/50\n",
            "469/469 [==============================] - 44s 93ms/step - loss: 2.1305 - accuracy: 0.3042 - val_loss: 2.0581 - val_accuracy: 0.6555\n",
            "Epoch 13/50\n",
            "469/469 [==============================] - 43s 92ms/step - loss: 2.1058 - accuracy: 0.3189 - val_loss: 2.0250 - val_accuracy: 0.6625\n",
            "Epoch 14/50\n",
            "469/469 [==============================] - 43s 92ms/step - loss: 2.0798 - accuracy: 0.3305 - val_loss: 1.9890 - val_accuracy: 0.6708\n",
            "Epoch 15/50\n",
            "469/469 [==============================] - 43s 92ms/step - loss: 2.0506 - accuracy: 0.3443 - val_loss: 1.9499 - val_accuracy: 0.6783\n",
            "Epoch 16/50\n",
            "469/469 [==============================] - 43s 92ms/step - loss: 2.0244 - accuracy: 0.3503 - val_loss: 1.9086 - val_accuracy: 0.6839\n",
            "Epoch 17/50\n",
            "469/469 [==============================] - 43s 92ms/step - loss: 1.9938 - accuracy: 0.3627 - val_loss: 1.8654 - val_accuracy: 0.6897\n",
            "Epoch 18/50\n",
            "469/469 [==============================] - 43s 92ms/step - loss: 1.9618 - accuracy: 0.3767 - val_loss: 1.8205 - val_accuracy: 0.6985\n",
            "Epoch 19/50\n",
            "469/469 [==============================] - 43s 92ms/step - loss: 1.9303 - accuracy: 0.3867 - val_loss: 1.7739 - val_accuracy: 0.7049\n",
            "Epoch 20/50\n",
            "469/469 [==============================] - 43s 92ms/step - loss: 1.8982 - accuracy: 0.3907 - val_loss: 1.7280 - val_accuracy: 0.7115\n",
            "Epoch 21/50\n",
            "469/469 [==============================] - 43s 92ms/step - loss: 1.8619 - accuracy: 0.4089 - val_loss: 1.6795 - val_accuracy: 0.7200\n",
            "Epoch 22/50\n",
            "469/469 [==============================] - 43s 92ms/step - loss: 1.8254 - accuracy: 0.4191 - val_loss: 1.6303 - val_accuracy: 0.7283\n",
            "Epoch 23/50\n",
            "469/469 [==============================] - 43s 92ms/step - loss: 1.7911 - accuracy: 0.4319 - val_loss: 1.5815 - val_accuracy: 0.7355\n",
            "Epoch 24/50\n",
            "469/469 [==============================] - 43s 92ms/step - loss: 1.7623 - accuracy: 0.4391 - val_loss: 1.5343 - val_accuracy: 0.7441\n",
            "Epoch 25/50\n",
            "469/469 [==============================] - 43s 92ms/step - loss: 1.7285 - accuracy: 0.4509 - val_loss: 1.4867 - val_accuracy: 0.7510\n",
            "Epoch 26/50\n",
            "469/469 [==============================] - 43s 92ms/step - loss: 1.6970 - accuracy: 0.4597 - val_loss: 1.4397 - val_accuracy: 0.7569\n",
            "Epoch 27/50\n",
            "469/469 [==============================] - 43s 92ms/step - loss: 1.6531 - accuracy: 0.4711 - val_loss: 1.3928 - val_accuracy: 0.7654\n",
            "Epoch 28/50\n",
            "469/469 [==============================] - 43s 92ms/step - loss: 1.6301 - accuracy: 0.4799 - val_loss: 1.3483 - val_accuracy: 0.7747\n",
            "Epoch 29/50\n",
            "469/469 [==============================] - 43s 92ms/step - loss: 1.5874 - accuracy: 0.4907 - val_loss: 1.3042 - val_accuracy: 0.7811\n",
            "Epoch 30/50\n",
            "469/469 [==============================] - 43s 93ms/step - loss: 1.5567 - accuracy: 0.5027 - val_loss: 1.2611 - val_accuracy: 0.7869\n",
            "Epoch 31/50\n",
            "469/469 [==============================] - 43s 92ms/step - loss: 1.5349 - accuracy: 0.5022 - val_loss: 1.2212 - val_accuracy: 0.7918\n",
            "Epoch 32/50\n",
            "469/469 [==============================] - 43s 92ms/step - loss: 1.4969 - accuracy: 0.5184 - val_loss: 1.1811 - val_accuracy: 0.7960\n",
            "Epoch 33/50\n",
            "469/469 [==============================] - 43s 92ms/step - loss: 1.4731 - accuracy: 0.5234 - val_loss: 1.1432 - val_accuracy: 0.8005\n",
            "Epoch 34/50\n",
            "469/469 [==============================] - 43s 92ms/step - loss: 1.4463 - accuracy: 0.5323 - val_loss: 1.1068 - val_accuracy: 0.8056\n",
            "Epoch 35/50\n",
            "469/469 [==============================] - 43s 93ms/step - loss: 1.4158 - accuracy: 0.5438 - val_loss: 1.0701 - val_accuracy: 0.8103\n",
            "Epoch 36/50\n",
            "469/469 [==============================] - 43s 92ms/step - loss: 1.3877 - accuracy: 0.5520 - val_loss: 1.0370 - val_accuracy: 0.8142\n",
            "Epoch 37/50\n",
            "469/469 [==============================] - 43s 92ms/step - loss: 1.3642 - accuracy: 0.5605 - val_loss: 1.0058 - val_accuracy: 0.8199\n",
            "Epoch 38/50\n",
            "469/469 [==============================] - 43s 93ms/step - loss: 1.3410 - accuracy: 0.5669 - val_loss: 0.9755 - val_accuracy: 0.8222\n",
            "Epoch 39/50\n",
            "469/469 [==============================] - 43s 92ms/step - loss: 1.3163 - accuracy: 0.5714 - val_loss: 0.9466 - val_accuracy: 0.8260\n",
            "Epoch 40/50\n",
            "469/469 [==============================] - 43s 93ms/step - loss: 1.2912 - accuracy: 0.5818 - val_loss: 0.9187 - val_accuracy: 0.8299\n",
            "Epoch 41/50\n",
            "469/469 [==============================] - 43s 92ms/step - loss: 1.2714 - accuracy: 0.5894 - val_loss: 0.8932 - val_accuracy: 0.8327\n",
            "Epoch 42/50\n",
            "469/469 [==============================] - 43s 92ms/step - loss: 1.2478 - accuracy: 0.5931 - val_loss: 0.8677 - val_accuracy: 0.8360\n",
            "Epoch 43/50\n",
            "469/469 [==============================] - 43s 92ms/step - loss: 1.2349 - accuracy: 0.5996 - val_loss: 0.8448 - val_accuracy: 0.8386\n",
            "Epoch 44/50\n",
            "469/469 [==============================] - 43s 92ms/step - loss: 1.2105 - accuracy: 0.6046 - val_loss: 0.8220 - val_accuracy: 0.8416\n",
            "Epoch 45/50\n",
            "469/469 [==============================] - 43s 92ms/step - loss: 1.1915 - accuracy: 0.6108 - val_loss: 0.8013 - val_accuracy: 0.8451\n",
            "Epoch 46/50\n",
            "469/469 [==============================] - 43s 92ms/step - loss: 1.1770 - accuracy: 0.6167 - val_loss: 0.7820 - val_accuracy: 0.8479\n",
            "Epoch 47/50\n",
            "469/469 [==============================] - 43s 93ms/step - loss: 1.1506 - accuracy: 0.6266 - val_loss: 0.7627 - val_accuracy: 0.8496\n",
            "Epoch 48/50\n",
            "469/469 [==============================] - 43s 92ms/step - loss: 1.1360 - accuracy: 0.6263 - val_loss: 0.7437 - val_accuracy: 0.8527\n",
            "Epoch 49/50\n",
            "469/469 [==============================] - 43s 92ms/step - loss: 1.1301 - accuracy: 0.6282 - val_loss: 0.7271 - val_accuracy: 0.8542\n",
            "Epoch 50/50\n",
            "469/469 [==============================] - 43s 93ms/step - loss: 1.1037 - accuracy: 0.6404 - val_loss: 0.7115 - val_accuracy: 0.8566\n",
            "The model has successfully trained\n"
          ],
          "name": "stdout"
        }
      ]
    },
    {
      "cell_type": "code",
      "metadata": {
        "colab": {
          "base_uri": "https://localhost:8080/"
        },
        "id": "seX3GXEQ26yR",
        "outputId": "1295dc2b-77d1-4e46-9ed3-7f721596a9d9"
      },
      "source": [
        "score = model.evaluate(x_test, y_test, verbose=0)\r\n",
        "print('Test loss:', score[0])\r\n",
        "print('Test accuracy:', score[1])"
      ],
      "execution_count": 16,
      "outputs": [
        {
          "output_type": "stream",
          "text": [
            "Test loss: 0.7114810347557068\n",
            "Test accuracy: 0.8565999865531921\n"
          ],
          "name": "stdout"
        }
      ]
    },
    {
      "cell_type": "code",
      "metadata": {
        "colab": {
          "base_uri": "https://localhost:8080/"
        },
        "id": "Vm6irXPK3B-s",
        "outputId": "b3d6175a-6e79-4da0-92a5-7432d26268a1"
      },
      "source": [
        "model.save('mnist.h5')\r\n",
        "print(\"Saving the model as mnist.h5\")"
      ],
      "execution_count": 17,
      "outputs": [
        {
          "output_type": "stream",
          "text": [
            "Saving the model as mnist.h5\n"
          ],
          "name": "stdout"
        }
      ]
    }
  ]
}